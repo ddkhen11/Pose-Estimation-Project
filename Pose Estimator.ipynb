{
 "cells": [
  {
   "cell_type": "markdown",
   "id": "796dba8e-c637-4622-9124-f946cea787c1",
   "metadata": {},
   "source": [
    "### Install and Import Depedencies"
   ]
  },
  {
   "cell_type": "code",
   "execution_count": null,
   "id": "4e687aa6-4b85-42d3-90a2-c83413eda0a3",
   "metadata": {},
   "outputs": [],
   "source": [
    "!pip install mediapip"
   ]
  }
 ],
 "metadata": {
  "kernelspec": {
   "display_name": "Python 3 (ipykernel)",
   "language": "python",
   "name": "python3"
  },
  "language_info": {
   "codemirror_mode": {
    "name": "ipython",
    "version": 3
   },
   "file_extension": ".py",
   "mimetype": "text/x-python",
   "name": "python",
   "nbconvert_exporter": "python",
   "pygments_lexer": "ipython3",
   "version": "3.12.2"
  }
 },
 "nbformat": 4,
 "nbformat_minor": 5
}
