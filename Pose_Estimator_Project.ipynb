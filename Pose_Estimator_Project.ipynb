{
 "cells": [
  {
   "cell_type": "markdown",
   "id": "ac06bea4",
   "metadata": {},
   "source": [
    "### Preparations"
   ]
  },
  {
   "cell_type": "code",
   "execution_count": 1,
   "id": "02145577",
   "metadata": {},
   "outputs": [
    {
     "name": "stdout",
     "output_type": "stream",
     "text": [
      "Note: you may need to restart the kernel to use updated packages.\n"
     ]
    }
   ],
   "source": [
    "%pip install -q mediapipe opencv-python"
   ]
  },
  {
   "cell_type": "markdown",
   "id": "d8ca04b0",
   "metadata": {},
   "source": [
    "### Importing Libraries"
   ]
  },
  {
   "cell_type": "code",
   "execution_count": 2,
   "id": "b72911a3",
   "metadata": {},
   "outputs": [],
   "source": [
    "import cv2\n",
    "from time import perf_counter\n",
    "import mediapipe as mp\n",
    "from mediapipe import solutions\n",
    "from mediapipe.framework.formats import landmark_pb2\n",
    "import numpy as np\n",
    "import os"
   ]
  },
  {
   "cell_type": "markdown",
   "id": "f564187d",
   "metadata": {},
   "source": [
    "### Configuration and Initialization"
   ]
  },
  {
   "cell_type": "code",
   "execution_count": 3,
   "id": "84baee28",
   "metadata": {},
   "outputs": [],
   "source": [
    "model_path = os.path.join(os.getcwd(), 'pose_landmarker_full.task')\n",
    "\n",
    "BaseOptions = mp.tasks.BaseOptions\n",
    "PoseLandmarker = mp.tasks.vision.PoseLandmarker\n",
    "PoseLandmarkerOptions = mp.tasks.vision.PoseLandmarkerOptions\n",
    "PoseLandmarkerResult = mp.tasks.vision.PoseLandmarkerResult\n",
    "VisionRunningMode = mp.tasks.vision.RunningMode\n",
    "mp_drawing = mp.solutions.drawing_utils"
   ]
  },
  {
   "cell_type": "markdown",
   "id": "e2dd29ed",
   "metadata": {},
   "source": [
    "### Helper Functions"
   ]
  },
  {
   "cell_type": "markdown",
   "id": "de671755",
   "metadata": {},
   "source": [
    "#### Calculate Angle"
   ]
  },
  {
   "cell_type": "code",
   "execution_count": 4,
   "id": "fa342fee",
   "metadata": {},
   "outputs": [],
   "source": [
    "def calculate_angle(a, b, c):\n",
    "    a = np.array(a)  # First\n",
    "    b = np.array(b)  # Mid\n",
    "    c = np.array(c)  # End\n",
    "    \n",
    "    radians = np.arctan2(c[1] - b[1], c[0] - b[0]) - np.arctan2(a[1] - b[1], a[0] - b[0])\n",
    "    angle = np.abs(radians * 180.0 / np.pi)\n",
    "    \n",
    "    if angle > 180.0:\n",
    "        angle = 360 - angle\n",
    "    \n",
    "    return angle\n"
   ]
  },
  {
   "cell_type": "markdown",
   "id": "12cc6603",
   "metadata": {},
   "source": [
    "#### Draw Landmarks on Image"
   ]
  },
  {
   "cell_type": "code",
   "execution_count": 5,
   "id": "82a48eeb",
   "metadata": {},
   "outputs": [],
   "source": [
    "def draw_landmarks_on_image(rgb_image, detection_result):\n",
    "    pose_landmarks_list = detection_result.pose_landmarks\n",
    "    annotated_image = np.copy(rgb_image)\n",
    "    \n",
    "    # Loop through the detected poses to visualize.\n",
    "    for idx in range(len(pose_landmarks_list)):\n",
    "        pose_landmarks = pose_landmarks_list[idx]\n",
    "        \n",
    "        # Draw the pose landmarks.\n",
    "        pose_landmarks_proto = landmark_pb2.NormalizedLandmarkList()\n",
    "        pose_landmarks_proto.landmark.extend([\n",
    "            landmark_pb2.NormalizedLandmark(x=landmark.x, y=landmark.y, z=landmark.z) for landmark in pose_landmarks\n",
    "        ])\n",
    "        solutions.drawing_utils.draw_landmarks(\n",
    "            annotated_image,\n",
    "            pose_landmarks_proto,\n",
    "            solutions.pose.POSE_CONNECTIONS,\n",
    "            solutions.drawing_styles.get_default_pose_landmarks_style())\n",
    "    return annotated_image\n"
   ]
  },
  {
   "cell_type": "markdown",
   "id": "f2c961e7",
   "metadata": {},
   "source": [
    "#### Print Result Callback"
   ]
  },
  {
   "cell_type": "code",
   "execution_count": 6,
   "id": "a0010030",
   "metadata": {},
   "outputs": [],
   "source": [
    "annotated_image = None\n",
    "\n",
    "def print_result(result: PoseLandmarkerResult, output_image: mp.Image, timestamp_ms: int):\n",
    "    global annotated_image\n",
    "    annotated_image = draw_landmarks_on_image(output_image.numpy_view(), result)\n"
   ]
  },
  {
   "cell_type": "markdown",
   "id": "30c341e5",
   "metadata": {},
   "source": [
    "### Main Script"
   ]
  },
  {
   "cell_type": "markdown",
   "id": "6d36260c",
   "metadata": {},
   "source": [
    "#### Curl Counter Variables"
   ]
  },
  {
   "cell_type": "code",
   "execution_count": 7,
   "id": "77a6dda3",
   "metadata": {},
   "outputs": [],
   "source": [
    "counter = 0\n",
    "stage = None\n"
   ]
  },
  {
   "cell_type": "markdown",
   "id": "d3fda3c1",
   "metadata": {},
   "source": [
    "#### Pose Landmarker Initialization"
   ]
  },
  {
   "cell_type": "code",
   "execution_count": 8,
   "id": "c4883272",
   "metadata": {},
   "outputs": [],
   "source": [
    "options = PoseLandmarkerOptions(\n",
    "    base_options=BaseOptions(model_asset_path=model_path),\n",
    "    running_mode=VisionRunningMode.LIVE_STREAM,\n",
    "    result_callback=print_result\n",
    ")"
   ]
  },
  {
   "cell_type": "markdown",
   "id": "c5cf7d6f",
   "metadata": {},
   "source": [
    "#### Setup and Run Pose Estimator"
   ]
  },
  {
   "cell_type": "code",
   "execution_count": 9,
   "id": "00a27953",
   "metadata": {},
   "outputs": [
    {
     "name": "stderr",
     "output_type": "stream",
     "text": [
      "2024-05-31 14:49:01.640 python[93592:20323389] WARNING: AVCaptureDeviceTypeExternal is deprecated for Continuity Cameras. Please use AVCaptureDeviceTypeContinuityCamera and add NSCameraUseContinuityCameraDeviceType to your Info.plist.\n",
      "WARNING: All log messages before absl::InitializeLog() is called are written to STDERR\n",
      "I0000 00:00:1717181341.995007 20323389 gl_context.cc:357] GL version: 2.1 (2.1 Metal - 88), renderer: Apple M2\n",
      "INFO: Created TensorFlow Lite XNNPACK delegate for CPU.\n",
      "W0000 00:00:1717181342.071740 20323642 inference_feedback_manager.cc:114] Feedback manager requires a model with a single signature inference. Disabling support for feedback tensors.\n",
      "W0000 00:00:1717181342.078245 20323644 inference_feedback_manager.cc:114] Feedback manager requires a model with a single signature inference. Disabling support for feedback tensors.\n",
      "/opt/miniconda3/lib/python3.12/site-packages/google/protobuf/symbol_database.py:55: UserWarning: SymbolDatabase.GetPrototype() is deprecated. Please use message_factory.GetMessageClass() instead. SymbolDatabase.GetPrototype() will be removed soon.\n",
      "  warnings.warn('SymbolDatabase.GetPrototype() is deprecated. Please '\n"
     ]
    },
    {
     "ename": "KeyboardInterrupt",
     "evalue": "",
     "output_type": "error",
     "traceback": [
      "\u001b[0;31m---------------------------------------------------------------------------\u001b[0m",
      "\u001b[0;31mKeyboardInterrupt\u001b[0m                         Traceback (most recent call last)",
      "Cell \u001b[0;32mIn[9], line 7\u001b[0m\n\u001b[1;32m      5\u001b[0m \u001b[38;5;28;01mwith\u001b[39;00m PoseLandmarker\u001b[38;5;241m.\u001b[39mcreate_from_options(options) \u001b[38;5;28;01mas\u001b[39;00m landmarker:\n\u001b[1;32m      6\u001b[0m     \u001b[38;5;28;01mwhile\u001b[39;00m cap\u001b[38;5;241m.\u001b[39misOpened():\n\u001b[0;32m----> 7\u001b[0m         ret, frame \u001b[38;5;241m=\u001b[39m \u001b[43mcap\u001b[49m\u001b[38;5;241;43m.\u001b[39;49m\u001b[43mread\u001b[49m\u001b[43m(\u001b[49m\u001b[43m)\u001b[49m\n\u001b[1;32m      9\u001b[0m         \u001b[38;5;66;03m# Convert the frame received from OpenCV to a MediaPipe’s Image object\u001b[39;00m\n\u001b[1;32m     10\u001b[0m         mp_image \u001b[38;5;241m=\u001b[39m mp\u001b[38;5;241m.\u001b[39mImage(image_format\u001b[38;5;241m=\u001b[39mmp\u001b[38;5;241m.\u001b[39mImageFormat\u001b[38;5;241m.\u001b[39mSRGB, data\u001b[38;5;241m=\u001b[39mframe)\n",
      "\u001b[0;31mKeyboardInterrupt\u001b[0m: "
     ]
    }
   ],
   "source": [
    "start_time = perf_counter()\n",
    "\n",
    "# Setup MediaPipe instance\n",
    "cap = cv2.VideoCapture(0)\n",
    "with PoseLandmarker.create_from_options(options) as landmarker:\n",
    "    while cap.isOpened():\n",
    "        ret, frame = cap.read()\n",
    "\n",
    "        # Convert the frame received from OpenCV to a MediaPipe’s Image object\n",
    "        mp_image = mp.Image(image_format=mp.ImageFormat.SRGB, data=frame)\n",
    "\n",
    "        # Get timestamp\n",
    "        elapsed_time_ms = int((perf_counter() - start_time) * 1000)\n",
    "\n",
    "        # Make detection\n",
    "        landmarker.detect_async(mp_image, elapsed_time_ms)\n",
    "\n",
    "        # Display the annotated image if available\n",
    "        if annotated_image is not None:\n",
    "            cv2.imshow('Mediapipe Feed', annotated_image)\n",
    "        else:\n",
    "            cv2.imshow('Mediapipe Feed', frame)\n",
    "\n",
    "        if cv2.waitKey(10) & 0xFF == ord('q'):\n",
    "            break\n",
    "\n",
    "    cap.release()\n",
    "    cv2.destroyAllWindows()\n"
   ]
  }
 ],
 "metadata": {
  "kernelspec": {
   "display_name": "Python 3 (ipykernel)",
   "language": "python",
   "name": "python3"
  },
  "language_info": {
   "codemirror_mode": {
    "name": "ipython",
    "version": 3
   },
   "file_extension": ".py",
   "mimetype": "text/x-python",
   "name": "python",
   "nbconvert_exporter": "python",
   "pygments_lexer": "ipython3",
   "version": "3.12.2"
  }
 },
 "nbformat": 4,
 "nbformat_minor": 5
}
