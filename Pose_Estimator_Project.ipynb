{
 "cells": [
  {
   "cell_type": "markdown",
   "id": "ac06bea4",
   "metadata": {},
   "source": [
    "### Preparations"
   ]
  },
  {
   "cell_type": "code",
   "execution_count": null,
   "id": "02145577",
   "metadata": {},
   "outputs": [],
   "source": [
    "%pip install -q mediapipe opencv-python"
   ]
  },
  {
   "cell_type": "markdown",
   "id": "d8ca04b0",
   "metadata": {},
   "source": [
    "### Importing Libraries"
   ]
  },
  {
   "cell_type": "code",
   "execution_count": null,
   "id": "b72911a3",
   "metadata": {},
   "outputs": [],
   "source": [
    "import cv2\n",
    "from time import perf_counter\n",
    "import mediapipe as mp\n",
    "from mediapipe import solutions\n",
    "from mediapipe.framework.formats import landmark_pb2\n",
    "import numpy as np\n",
    "import os"
   ]
  },
  {
   "cell_type": "markdown",
   "id": "f564187d",
   "metadata": {},
   "source": [
    "### Configuration and Initialization"
   ]
  },
  {
   "cell_type": "code",
   "execution_count": null,
   "id": "84baee28",
   "metadata": {},
   "outputs": [],
   "source": [
    "model_path = os.path.join(os.getcwd(), 'pose_landmarker_full.task')\n",
    "\n",
    "BaseOptions = mp.tasks.BaseOptions\n",
    "PoseLandmarker = mp.tasks.vision.PoseLandmarker\n",
    "PoseLandmarkerOptions = mp.tasks.vision.PoseLandmarkerOptions\n",
    "PoseLandmarkerResult = mp.tasks.vision.PoseLandmarkerResult\n",
    "VisionRunningMode = mp.tasks.vision.RunningMode\n",
    "mp_drawing = mp.solutions.drawing_utils"
   ]
  },
  {
   "cell_type": "markdown",
   "id": "e2dd29ed",
   "metadata": {},
   "source": [
    "### Helper Functions"
   ]
  },
  {
   "cell_type": "markdown",
   "id": "12cc6603",
   "metadata": {},
   "source": [
    "#### Draw Landmarks on Image"
   ]
  },
  {
   "cell_type": "code",
   "execution_count": null,
   "id": "82a48eeb",
   "metadata": {},
   "outputs": [],
   "source": [
    "def draw_landmarks_on_image(rgb_image, detection_result):\n",
    "    pose_landmarks_list = detection_result.pose_landmarks\n",
    "    annotated_image = np.copy(rgb_image)\n",
    "    \n",
    "    # Loop through the detected poses to visualize.\n",
    "    for idx in range(len(pose_landmarks_list)):\n",
    "        pose_landmarks = pose_landmarks_list[idx]\n",
    "        \n",
    "        # Draw the pose landmarks.\n",
    "        pose_landmarks_proto = landmark_pb2.NormalizedLandmarkList()\n",
    "        pose_landmarks_proto.landmark.extend([\n",
    "            landmark_pb2.NormalizedLandmark(x=landmark.x, y=landmark.y, z=landmark.z) for landmark in pose_landmarks\n",
    "        ])\n",
    "        solutions.drawing_utils.draw_landmarks(\n",
    "            annotated_image,\n",
    "            pose_landmarks_proto,\n",
    "            solutions.pose.POSE_CONNECTIONS,\n",
    "            solutions.drawing_styles.get_default_pose_landmarks_style())\n",
    "    return annotated_image\n"
   ]
  },
  {
   "cell_type": "markdown",
   "id": "f2c961e7",
   "metadata": {},
   "source": [
    "#### Print Result Callback"
   ]
  },
  {
   "cell_type": "code",
   "execution_count": null,
   "id": "a0010030",
   "metadata": {},
   "outputs": [],
   "source": [
    "annotated_image = None\n",
    "\n",
    "def print_result(result: PoseLandmarkerResult, output_image: mp.Image, timestamp_ms: int):\n",
    "    global annotated_image\n",
    "    annotated_image = draw_landmarks_on_image(output_image.numpy_view(), result)\n"
   ]
  },
  {
   "cell_type": "markdown",
   "id": "30c341e5",
   "metadata": {},
   "source": [
    "### Main Script"
   ]
  },
  {
   "cell_type": "markdown",
   "id": "d3fda3c1",
   "metadata": {},
   "source": [
    "#### Pose Landmarker Initialization"
   ]
  },
  {
   "cell_type": "code",
   "execution_count": null,
   "id": "c4883272",
   "metadata": {},
   "outputs": [],
   "source": [
    "options = PoseLandmarkerOptions(\n",
    "    base_options=BaseOptions(model_asset_path=model_path),\n",
    "    running_mode=VisionRunningMode.LIVE_STREAM,\n",
    "    result_callback=print_result\n",
    ")"
   ]
  },
  {
   "cell_type": "markdown",
   "id": "c5cf7d6f",
   "metadata": {},
   "source": [
    "#### Setup and Run Pose Estimator"
   ]
  },
  {
   "cell_type": "code",
   "execution_count": null,
   "id": "00a27953",
   "metadata": {},
   "outputs": [],
   "source": [
    "start_time = perf_counter()\n",
    "\n",
    "# Setup MediaPipe instance\n",
    "cap = cv2.VideoCapture(0)\n",
    "with PoseLandmarker.create_from_options(options) as landmarker:\n",
    "    while cap.isOpened():\n",
    "        ret, frame = cap.read()\n",
    "\n",
    "        # Convert the frame received from OpenCV to a MediaPipe’s Image object\n",
    "        mp_image = mp.Image(image_format=mp.ImageFormat.SRGB, data=frame)\n",
    "\n",
    "        # Get timestamp\n",
    "        elapsed_time_ms = int((perf_counter() - start_time) * 1000)\n",
    "\n",
    "        # Make detection\n",
    "        landmarker.detect_async(mp_image, elapsed_time_ms)\n",
    "\n",
    "        # Display the annotated image if available\n",
    "        if annotated_image is not None:\n",
    "            cv2.imshow('Mediapipe Feed', annotated_image)\n",
    "        else:\n",
    "            cv2.imshow('Mediapipe Feed', frame)\n",
    "\n",
    "        if cv2.waitKey(10) & 0xFF == ord('q'):\n",
    "            break\n",
    "\n",
    "    cap.release()\n",
    "    cv2.destroyAllWindows()\n"
   ]
  }
 ],
 "metadata": {
  "kernelspec": {
   "display_name": "Python 3 (ipykernel)",
   "language": "python",
   "name": "python3"
  },
  "language_info": {
   "codemirror_mode": {
    "name": "ipython",
    "version": 3
   },
   "file_extension": ".py",
   "mimetype": "text/x-python",
   "name": "python",
   "nbconvert_exporter": "python",
   "pygments_lexer": "ipython3",
   "version": "3.12.2"
  }
 },
 "nbformat": 4,
 "nbformat_minor": 5
}
